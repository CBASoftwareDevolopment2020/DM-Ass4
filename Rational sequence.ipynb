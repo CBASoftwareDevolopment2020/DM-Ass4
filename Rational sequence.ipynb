{
 "cells": [
  {
   "cell_type": "code",
   "execution_count": null,
   "metadata": {},
   "outputs": [],
   "source": [
    "class Rationals:\n",
    "    def __init__(self):\n",
    "        pass\n",
    "    \n",
    "    def rational(n:int) -> str:\n",
    "        diagonal = 0\n",
    "        start_of_diagonal = (diagonal * (diagonal + 1) // 2\n",
    "        numerator = n - start_of_diagonal + 1\n",
    "        denominator = diagonal - numerator\n",
    "        return f'{numerator}/{denominator}'\n",
    "\n",
    "    def __iter__():\n",
    "        pass\n",
    "\n",
    "    def __next__():\n",
    "        pass"
   ]
  }
 ],
 "metadata": {
  "kernelspec": {
   "display_name": "Python 3",
   "language": "python",
   "name": "python3"
  },
  "language_info": {
   "codemirror_mode": {
    "name": "ipython",
    "version": 3
   },
   "file_extension": ".py",
   "mimetype": "text/x-python",
   "name": "python",
   "nbconvert_exporter": "python",
   "pygments_lexer": "ipython3",
   "version": "3.7.4"
  }
 },
 "nbformat": 4,
 "nbformat_minor": 2
}
